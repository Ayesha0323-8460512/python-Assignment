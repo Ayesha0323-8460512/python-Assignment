{
 "cells": [
  {
   "cell_type": "code",
   "execution_count": 19,
   "metadata": {
    "cocalc": {
     "outputs": {
      "0": {
       "name": "input",
       "opts": {
        "password": false,
        "prompt": "Enter your English marks:"
       },
       "output_type": "stream",
       "value": "122"
      },
      "1": {
       "name": "input",
       "opts": {
        "password": false,
        "prompt": "Enter your Mathematics marks:"
       },
       "output_type": "stream",
       "value": "12"
      },
      "2": {
       "name": "input",
       "opts": {
        "password": false,
        "prompt": "Enter your Computer Science marks:"
       },
       "output_type": "stream",
       "value": "15"
      },
      "3": {
       "name": "input",
       "opts": {
        "password": false,
        "prompt": "Enter your Statistics marks:"
       },
       "output_type": "stream",
       "value": "17"
      },
      "4": {
       "name": "input",
       "opts": {
        "password": false,
        "prompt": "Enter your Physics marks:"
       },
       "output_type": "stream",
       "value": "56"
      }
     }
    },
    "collapsed": false
   },
   "outputs": [
    {
     "name": "stdout",
     "output_type": "stream",
     "text": "Enter your English marks: 122"
    },
    {
     "name": "stdout",
     "output_type": "stream",
     "text": "Enter your Mathematics marks: 12"
    },
    {
     "name": "stdout",
     "output_type": "stream",
     "text": "Enter your Computer Science marks: 15"
    },
    {
     "name": "stdout",
     "output_type": "stream",
     "text": "Enter your Statistics marks: 17"
    },
    {
     "name": "stdout",
     "output_type": "stream",
     "text": "Enter your Physics marks: 56"
    },
    {
     "name": "stdout",
     "output_type": "stream",
     "text": [
      "you put invalid numbers\n"
     ]
    }
   ],
   "source": [
    "#7. Write a program which takes 5 inputs from user for different subject’s marks, total it and generate mark sheet using grades ?\n",
    "\n",
    "eng=int(input(\"Enter your English marks:\"))\n",
    "math=int(input(\"Enter your Mathematics marks:\"))\n",
    "comp=int(input(\"Enter your Computer Science marks:\"))\n",
    "stat=int(input(\"Enter your Statistics marks:\"))\n",
    "phy=int(input(\"Enter your Physics marks:\"))\n",
    "\n",
    "# check invalid number\n",
    "\n",
    "if eng>100 or eng< 0 or math>100 or math<0 or comp>100 or comp<0 or stat>100 or stat<0 or phy>100 or phy<0:\n",
    "    print(\"you put invalid numbers\")\n",
    "# check marks sheet\n",
    "else:\n",
    "    print(\"\\t\\t******************'YOUR MARKS SHEET'****************\")\n",
    "    print(\"English:\", eng , \"\\nmath:\", math ,\"\\ncomp:\", comp ,\"\\nstat:\", stat ,\"\\nphy:\" ,phy)\n",
    "    print(\"*******************\")\n",
    "    total_marks=500\n",
    "    obtained_marks=eng+math+comp+stat+phy\n",
    "    percentage=obtained_marks/5\n",
    "    print(\"\\nTotal marks:\" ,total_marks)\n",
    "    print(\"Obtained Marks:\" ,obtained_marks)\n",
    "    print(\"percentage:\",percentage)\n",
    "#check grade\n",
    "\n",
    "    if percentage >80 and percentage<100:\n",
    "         print(\"your grade is A+\")\n",
    "    elif percentage >70 and percentage<80:\n",
    "         print(\"your grade is A\")\n",
    "    elif percentage >60 and percentage<70:\n",
    "         print(\"your grade is B\")\n",
    "    elif  percentage >50 and percentage<60:\n",
    "         print(\"your grade is C\")\n",
    "    elif  percentage >40 and percentage<50:\n",
    "         print(\"your grade is D\")\n",
    "    else:\n",
    "        print(\"your grade is and you need to improve your marks\")"
   ]
  },
  {
   "cell_type": "code",
   "execution_count": 0,
   "metadata": {
    "collapsed": false
   },
   "outputs": [
   ],
   "source": [
   ]
  },
  {
   "cell_type": "code",
   "execution_count": 0,
   "metadata": {
    "collapsed": false
   },
   "outputs": [
   ],
   "source": [
   ]
  },
  {
   "cell_type": "code",
   "execution_count": 0,
   "metadata": {
    "collapsed": false
   },
   "outputs": [
   ],
   "source": [
   ]
  },
  {
   "cell_type": "code",
   "execution_count": 0,
   "metadata": {
    "collapsed": false
   },
   "outputs": [
   ],
   "source": [
   ]
  },
  {
   "cell_type": "code",
   "execution_count": 0,
   "metadata": {
    "collapsed": false
   },
   "outputs": [
   ],
   "source": [
   ]
  }
 ],
 "metadata": {
  "kernelspec": {
   "display_name": "Python 3 (system-wide)",
   "language": "python",
   "metadata": {
    "cocalc": {
     "description": "Python 3 programming language",
     "priority": 100,
     "url": "https://www.python.org/"
    }
   },
   "name": "python3",
   "resource_dir": "/ext/jupyter/kernels/python3"
  },
  "language_info": {
   "codemirror_mode": {
    "name": "ipython",
    "version": 3
   },
   "file_extension": ".py",
   "mimetype": "text/x-python",
   "name": "python",
   "nbconvert_exporter": "python",
   "pygments_lexer": "ipython3",
   "version": "3.8.10"
  }
 },
 "nbformat": 4,
 "nbformat_minor": 4
}