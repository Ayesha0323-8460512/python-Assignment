{
 "cells": [
  {
   "cell_type": "code",
   "execution_count": 8,
   "metadata": {
    "collapsed": false
   },
   "outputs": [
    {
     "name": "stdout",
     "output_type": "stream",
     "text": [
      "['ayesha', 'namal', 'mano', '12']\n",
      "\n",
      "length of list is:\n",
      "4\n",
      "length of each element in list is:\n",
      "ayesha : 6\n",
      "namal : 5\n",
      "mano : 4\n",
      "12 : 2\n"
     ]
    }
   ],
   "source": [
    "#9. Write a program which print the length of the list?\n",
    "\n",
    "mylist=['ayesha','namal','mano','12']\n",
    "print(mylist)\n",
    "length=len(mylist)\n",
    "print(\"\\nlength of list is:\")\n",
    "print(length)\n",
    "print(\"length of each element in list is:\")\n",
    "\n",
    "for i in mylist:\n",
    "    print(i , \":\" ,len(i))\n",
    "   "
   ]
  },
  {
   "cell_type": "code",
   "execution_count": 0,
   "metadata": {
    "collapsed": false
   },
   "outputs": [
   ],
   "source": [
   ]
  }
 ],
 "metadata": {
  "kernelspec": {
   "display_name": "Python 3 (system-wide)",
   "language": "python",
   "metadata": {
    "cocalc": {
     "description": "Python 3 programming language",
     "priority": 100,
     "url": "https://www.python.org/"
    }
   },
   "name": "python3",
   "resource_dir": "/ext/jupyter/kernels/python3"
  },
  "language_info": {
   "codemirror_mode": {
    "name": "ipython",
    "version": 3
   },
   "file_extension": ".py",
   "mimetype": "text/x-python",
   "name": "python",
   "nbconvert_exporter": "python",
   "pygments_lexer": "ipython3",
   "version": "3.8.10"
  }
 },
 "nbformat": 4,
 "nbformat_minor": 4
}