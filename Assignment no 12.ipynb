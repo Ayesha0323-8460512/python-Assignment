{
 "cells": [
  {
   "cell_type": "code",
   "execution_count": 8,
   "metadata": {
    "collapsed": false
   },
   "outputs": [
    {
     "name": "stdout",
     "output_type": "stream",
     "text": [
      "[1, 1, 2, 3, 5, 8, 13, 21, 34, 55, 89]\n",
      "num less than 5 are:\n",
      "1\n",
      "1\n",
      "2\n",
      "3\n",
      "\n",
      "Total element in list are: 4\n"
     ]
    }
   ],
   "source": [
    "#12. write a program that print out all the elements of the list that are less than 5\n",
    "\n",
    "a=[1,1,2,3,5,8,13,21,34,55,89]\n",
    "print(a)\n",
    "total=0\n",
    "print(\"num less than 5 in list are:\")\n",
    "for i in a:\n",
    "    if i<5:\n",
    "        total=total+1\n",
    "        print(i)\n",
    "print(\"\\nTotal element in list are:\",total)"
   ]
  },
  {
   "cell_type": "code",
   "execution_count": 0,
   "metadata": {
    "collapsed": false
   },
   "outputs": [
   ],
   "source": [
   ]
  }
 ],
 "metadata": {
  "kernelspec": {
   "display_name": "Python 3 (system-wide)",
   "language": "python",
   "metadata": {
    "cocalc": {
     "description": "Python 3 programming language",
     "priority": 100,
     "url": "https://www.python.org/"
    }
   },
   "name": "python3",
   "resource_dir": "/ext/jupyter/kernels/python3"
  },
  "language_info": {
   "codemirror_mode": {
    "name": "ipython",
    "version": 3
   },
   "file_extension": ".py",
   "mimetype": "text/x-python",
   "name": "python",
   "nbconvert_exporter": "python",
   "pygments_lexer": "ipython3",
   "version": "3.8.10"
  }
 },
 "nbformat": 4,
 "nbformat_minor": 4
}