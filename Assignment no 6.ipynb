{
 "cells": [
  {
   "cell_type": "code",
   "execution_count": 2,
   "metadata": {
    "cocalc": {
     "outputs": {
      "0": {
       "name": "input",
       "opts": {
        "password": false,
        "prompt": "Enter the 1st no:"
       },
       "output_type": "stream",
       "value": "9"
      },
      "1": {
       "name": "input",
       "opts": {
        "password": false,
        "prompt": "Enter the 2nd no:"
       },
       "output_type": "stream",
       "value": "5"
      }
     }
    },
    "collapsed": false
   },
   "outputs": [
    {
     "name": "stdout",
     "output_type": "stream",
     "text": "Enter the 1st no: 9"
    },
    {
     "name": "stdout",
     "output_type": "stream",
     "text": "Enter the 2nd no: 5"
    },
    {
     "name": "stdout",
     "output_type": "stream",
     "text": [
      "sum of 9and 5is:\n",
      " 95\n",
      "\n",
      "Another way\n",
      "sum of x and y  is: 95\n"
     ]
    }
   ],
   "source": [
    "#6. Write a python program which takes two inputs from user and print them addition\n",
    "\n",
    "x=input(\"Enter the 1st no:\")\n",
    "y=input(\"Enter the 2nd no:\")\n",
    "add=x+y\n",
    "print(\"sum of\",x +\"and\",y + \"is:\\n\",add)\n",
    "#another way\n",
    "print(\"\\nAnother way\")\n",
    "print(\"sum of x and y  is:\",x+y)\n"
   ]
  },
  {
   "cell_type": "code",
   "execution_count": 0,
   "metadata": {
    "collapsed": false
   },
   "outputs": [
   ],
   "source": [
   ]
  },
  {
   "cell_type": "code",
   "execution_count": 0,
   "metadata": {
    "collapsed": false
   },
   "outputs": [
   ],
   "source": [
   ]
  }
 ],
 "metadata": {
  "kernelspec": {
   "display_name": "Python 3 (system-wide)",
   "language": "python",
   "metadata": {
    "cocalc": {
     "description": "Python 3 programming language",
     "priority": 100,
     "url": "https://www.python.org/"
    }
   },
   "name": "python3",
   "resource_dir": "/ext/jupyter/kernels/python3"
  },
  "language_info": {
   "codemirror_mode": {
    "name": "ipython",
    "version": 3
   },
   "file_extension": ".py",
   "mimetype": "text/x-python",
   "name": "python",
   "nbconvert_exporter": "python",
   "pygments_lexer": "ipython3",
   "version": "3.8.10"
  }
 },
 "nbformat": 4,
 "nbformat_minor": 4
}