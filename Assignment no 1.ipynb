{
 "cells": [
  {
   "cell_type": "code",
   "execution_count": 8,
   "metadata": {
    "collapsed": false
   },
   "outputs": [
    {
     "name": "stdout",
     "output_type": "stream",
     "text": [
      "\t\tTwinkle, twinkle, little star,\n",
      "\t\t\tHow I wonder what you are!\n",
      "\t\t\t\tUp above the world so high,\n",
      "\t\t\t\tLike a diamond in the sky.\n",
      "\t\tTwinkle, twinkle, little star,\n",
      "\t\t\tHow I wonder what you are!\n",
      "\n",
      "\t\t*******************************\n",
      "\n",
      "\t\tTwinkle, twinkle, little star, \n",
      "\t\t\tHow I wonder what you are! \n",
      "\t\t\t\tUp above the world so high, \n",
      "\t\t\t\tLike a diamond in the sky. \n",
      "\t\tTwinkle, twinkle, little star, \n",
      "\t\t\tHow I wonder what you are!\n"
     ]
    }
   ],
   "source": [
    "#1. Write a Python program to print the following string in a specific format\n",
    "\n",
    "print(\"\\t\\tTwinkle, twinkle, little star,\")\n",
    "print(\"\\t\\t\\tHow I wonder what you are!\")\n",
    "print(\"\\t\\t\\t\\tUp above the world so high,\")\n",
    "print(\"\\t\\t\\t\\tLike a diamond in the sky.\")\n",
    "print(\"\\t\\tTwinkle, twinkle, little star,\")\n",
    "print(\"\\t\\t\\tHow I wonder what you are!\")\n",
    "\n",
    "# in one line\n",
    "print(\"\\n\\t\\t*******************************\")\n",
    "print(\"\\n\\t\\tTwinkle, twinkle, little star, \\n\\t\\t\\tHow I wonder what you are! \\n\\t\\t\\t\\tUp above the world so high, \\n\\t\\t\\t\\tLike a diamond in the sky. \\n\\t\\tTwinkle, twinkle, little star, \\n\\t\\t\\tHow I wonder what you are!\")\n",
    "\n"
   ]
  },
  {
   "cell_type": "code",
   "execution_count": 0,
   "metadata": {
    "collapsed": false
   },
   "outputs": [
   ],
   "source": [
   ]
  }
 ],
 "metadata": {
  "kernelspec": {
   "display_name": "Python 3 (system-wide)",
   "language": "python",
   "metadata": {
    "cocalc": {
     "description": "Python 3 programming language",
     "priority": 100,
     "url": "https://www.python.org/"
    }
   },
   "name": "python3",
   "resource_dir": "/ext/jupyter/kernels/python3"
  },
  "language_info": {
   "codemirror_mode": {
    "name": "ipython",
    "version": 3
   },
   "file_extension": ".py",
   "mimetype": "text/x-python",
   "name": "python",
   "nbconvert_exporter": "python",
   "pygments_lexer": "ipython3",
   "version": "3.8.10"
  }
 },
 "nbformat": 4,
 "nbformat_minor": 4
}