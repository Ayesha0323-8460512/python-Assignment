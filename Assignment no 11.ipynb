{
 "cells": [
  {
   "cell_type": "code",
   "execution_count": 8,
   "metadata": {
    "collapsed": false
   },
   "outputs": [
    {
     "name": "stdout",
     "output_type": "stream",
     "text": [
      "with 'max method'\n",
      "[1, 55, 86, 12, 45, 75, 2]\n",
      "86\n",
      "\n",
      "with 'itertion method'\n",
      "[1, 55, 86, 12, 45, 75, 2]\n",
      "86\n",
      "\n",
      "with 'sort method'\n",
      "sorted list is:\n",
      "[1, 2, 12, 45, 55, 75, 86]\n",
      "86\n"
     ]
    }
   ],
   "source": [
    "#11.Write a Python program to get the largest number from a numeric list.\n",
    "\n",
    "print(\"with 'max method'\")\n",
    "num_list=[1,55,86,12,45,75,2]\n",
    "print(num_list)\n",
    "largest=max(num_list)\n",
    "print(largest)\n",
    "\n",
    "# itertion method\n",
    "print(\"\\nwith 'itertion method'\")\n",
    "print(num_list)\n",
    "large=num_list[0]\n",
    "for i in num_list:\n",
    "    if i>large:\n",
    "        large=i\n",
    "print(large)\n",
    "# with sort method\n",
    "print(\"\\nwith 'sort method'\")\n",
    "sorted=num_list.sort()\n",
    "print(\"sorted list is:\")\n",
    "print(num_list)\n",
    "print(num_list[-1])"
   ]
  },
  {
   "cell_type": "code",
   "execution_count": 0,
   "metadata": {
    "collapsed": false
   },
   "outputs": [
   ],
   "source": [
   ]
  }
 ],
 "metadata": {
  "kernelspec": {
   "display_name": "Python 3 (system-wide)",
   "language": "python",
   "metadata": {
    "cocalc": {
     "description": "Python 3 programming language",
     "priority": 100,
     "url": "https://www.python.org/"
    }
   },
   "name": "python3",
   "resource_dir": "/ext/jupyter/kernels/python3"
  },
  "language_info": {
   "codemirror_mode": {
    "name": "ipython",
    "version": 3
   },
   "file_extension": ".py",
   "mimetype": "text/x-python",
   "name": "python",
   "nbconvert_exporter": "python",
   "pygments_lexer": "ipython3",
   "version": "3.8.10"
  }
 },
 "nbformat": 4,
 "nbformat_minor": 4
}