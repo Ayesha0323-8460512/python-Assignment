{
 "cells": [
  {
   "cell_type": "code",
   "execution_count": 4,
   "metadata": {
    "cocalc": {
     "outputs": {
      "1": {
       "name": "input",
       "opts": {
        "password": false,
        "prompt": "Enter the radius:"
       },
       "output_type": "stream"
      }
     }
    },
    "collapsed": false
   },
   "outputs": [
    {
     "name": "stdout",
     "output_type": "stream",
     "text": [
      "\t\t\tArea of circle without 'math module'\n"
     ]
    },
    {
     "name": "stdout",
     "output_type": "stream",
     "text": "Enter the radius: "
    }
   ],
   "source": [
    "# 4. Write a Python program which accepts the radius of a circle from the user and compute the area.\n",
    "\n",
    "#without math module\n",
    "\n",
    "print(\"\\t\\t\\tArea of circle without 'math module'\")\n",
    "pi=3.14\n",
    "R=float(input(\"Enter the radius:\"))\n",
    "area=pi*R*R\n",
    "print(\"Area of circle is:\",area)\n",
    "\n",
    "# with math module\n",
    "\n",
    "print(\"\\n\\t\\t\\tArea of circle with 'math module'\")\n",
    "import math\n",
    "r=float(input(\"\\nEnter the radius:\"))\n",
    "PI=math.pi\n",
    "Area=PI*r*r\n",
    "print(\"Area of circle is:\",Area)\n",
    "\n"
   ]
  },
  {
   "cell_type": "code",
   "execution_count": 0,
   "metadata": {
    "collapsed": false
   },
   "outputs": [
   ],
   "source": [
   ]
  },
  {
   "cell_type": "code",
   "execution_count": 0,
   "metadata": {
    "collapsed": false
   },
   "outputs": [
   ],
   "source": [
   ]
  }
 ],
 "metadata": {
  "kernelspec": {
   "display_name": "Python 3 (system-wide)",
   "language": "python",
   "metadata": {
    "cocalc": {
     "description": "Python 3 programming language",
     "priority": 100,
     "url": "https://www.python.org/"
    }
   },
   "name": "python3",
   "resource_dir": "/ext/jupyter/kernels/python3"
  },
  "language_info": {
   "codemirror_mode": {
    "name": "ipython",
    "version": 3
   },
   "file_extension": ".py",
   "mimetype": "text/x-python",
   "name": "python",
   "nbconvert_exporter": "python",
   "pygments_lexer": "ipython3",
   "version": "3.8.10"
  }
 },
 "nbformat": 4,
 "nbformat_minor": 4
}