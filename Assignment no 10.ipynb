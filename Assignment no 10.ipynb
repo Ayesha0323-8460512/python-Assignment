{
 "cells": [
  {
   "cell_type": "code",
   "execution_count": 8,
   "metadata": {
    "collapsed": false
   },
   "outputs": [
    {
     "name": "stdout",
     "output_type": "stream",
     "text": [
      "[1, 5, 7, 9, 6]\n",
      "\n",
      "sum of list with 'Sum method'\n",
      "total: 28\n",
      "\n",
      "sum of list \n",
      "total: 28\n"
     ]
    }
   ],
   "source": [
    "#10.Write a Python program to sum all the numeric items in a list?\n",
    "\n",
    "num_list=[1,5,7,9,6]\n",
    "print(num_list)\n",
    "print(\"\\nsum of list with 'Sum method'\")\n",
    "print(\"total:\",sum(num_list))\n",
    "\n",
    "total=0\n",
    "for i in range(0,len(num_list)):\n",
    "    total=total+num_list[i]\n",
    "print(\"\\nsum of list \")\n",
    "print(\"total:\",total)\n",
    "    "
   ]
  },
  {
   "cell_type": "code",
   "execution_count": 0,
   "metadata": {
    "collapsed": false
   },
   "outputs": [
   ],
   "source": [
   ]
  }
 ],
 "metadata": {
  "kernelspec": {
   "display_name": "Python 3 (system-wide)",
   "language": "python",
   "metadata": {
    "cocalc": {
     "description": "Python 3 programming language",
     "priority": 100,
     "url": "https://www.python.org/"
    }
   },
   "name": "python3",
   "resource_dir": "/ext/jupyter/kernels/python3"
  },
  "language_info": {
   "codemirror_mode": {
    "name": "ipython",
    "version": 3
   },
   "file_extension": ".py",
   "mimetype": "text/x-python",
   "name": "python",
   "nbconvert_exporter": "python",
   "pygments_lexer": "ipython3",
   "version": "3.8.10"
  }
 },
 "nbformat": 4,
 "nbformat_minor": 4
}