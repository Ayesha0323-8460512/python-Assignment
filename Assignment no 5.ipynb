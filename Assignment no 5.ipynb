{
 "cells": [
  {
   "cell_type": "code",
   "execution_count": 2,
   "metadata": {
    "cocalc": {
     "outputs": {
      "0": {
       "name": "input",
       "opts": {
        "password": false,
        "prompt": "Enter your firstname:"
       },
       "output_type": "stream",
       "value": "ayesha"
      },
      "1": {
       "name": "input",
       "opts": {
        "password": false,
        "prompt": "Enter your lastname:"
       },
       "output_type": "stream",
       "value": "arshad"
      }
     }
    },
    "collapsed": false
   },
   "outputs": [
    {
     "name": "stdout",
     "output_type": "stream",
     "text": "Enter your firstname: ayesha"
    },
    {
     "name": "stdout",
     "output_type": "stream",
     "text": "Enter your lastname: arshad"
    },
    {
     "name": "stdout",
     "output_type": "stream",
     "text": [
      "ayeshaarshad\n",
      "\n",
      "revrse name is:\n",
      "arshad ayesha\n"
     ]
    }
   ],
   "source": [
    "# 5. Write a Python program which accepts the user's first and last name and print them in reverse order with a space between them.\n",
    "\n",
    "firstname=input(\"Enter your firstname:\")\n",
    "lastname=input(\"Enter your lastname:\")\n",
    "print(firstname+lastname)\n",
    "print(\"\\nRevrse name is:\")\n",
    "fullname=lastname + \" \" + firstname\n",
    "print(fullname)\n"
   ]
  },
  {
   "cell_type": "code",
   "execution_count": 0,
   "metadata": {
    "collapsed": false
   },
   "outputs": [
   ],
   "source": [
   ]
  }
 ],
 "metadata": {
  "kernelspec": {
   "display_name": "Python 3 (system-wide)",
   "language": "python",
   "metadata": {
    "cocalc": {
     "description": "Python 3 programming language",
     "priority": 100,
     "url": "https://www.python.org/"
    }
   },
   "name": "python3",
   "resource_dir": "/ext/jupyter/kernels/python3"
  },
  "language_info": {
   "codemirror_mode": {
    "name": "ipython",
    "version": 3
   },
   "file_extension": ".py",
   "mimetype": "text/x-python",
   "name": "python",
   "nbconvert_exporter": "python",
   "pygments_lexer": "ipython3",
   "version": "3.8.10"
  }
 },
 "nbformat": 4,
 "nbformat_minor": 4
}